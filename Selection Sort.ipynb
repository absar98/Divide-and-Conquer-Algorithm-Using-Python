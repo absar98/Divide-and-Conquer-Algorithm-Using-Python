{
 "cells": [
  {
   "cell_type": "code",
   "execution_count": 19,
   "metadata": {},
   "outputs": [],
   "source": [
    "def select_sort(lst):\n",
    "    for i in range(len(lst)):\n",
    "        min_val_pos = i\n",
    "        for j in range(i+1, len(lst)):\n",
    "            if lst[min_val_pos] > lst[j]:\n",
    "                min_val_pos = j\n",
    "            temp = lst[i]\n",
    "            lst[i] = lst[min_val_pos]\n",
    "            lst[min_val_pos] = temp\n",
    "    return lst "
   ]
  },
  {
   "cell_type": "code",
   "execution_count": 20,
   "metadata": {},
   "outputs": [],
   "source": [
    "def mergeSort(a):\n",
    "    if len(a)>1:\n",
    "        q=len(a)//2\n",
    "        l=a[:q]\n",
    "        r=a[q:]\n",
    "        select_sort(l)\n",
    "        select_sort(r)\n",
    "        i=0\n",
    "        j=0\n",
    "        k=0\n",
    "        while i<len(l) and j<len(r):\n",
    "            if l[i]<r[j]:\n",
    "                a[k]=l[i]\n",
    "                i=i+1\n",
    "            else:\n",
    "                a[k]=r[j]\n",
    "                j=j+1\n",
    "            k=k+1\n",
    "        while i<len(l):\n",
    "            a[k]=l[i]\n",
    "            i=i+1\n",
    "            k=k+1\n",
    "        while j<len(r):\n",
    "            a[k]=l[i]\n",
    "            j=j+1\n",
    "            k=k+1"
   ]
  },
  {
   "cell_type": "code",
   "execution_count": 21,
   "metadata": {},
   "outputs": [],
   "source": [
    "import time as ti"
   ]
  },
  {
   "cell_type": "code",
   "execution_count": 22,
   "metadata": {},
   "outputs": [],
   "source": [
    "a = ti.time();p = mergeSort(list(range(10000,1,-1)));b = ti.time();c = b-a"
   ]
  },
  {
   "cell_type": "code",
   "execution_count": 23,
   "metadata": {},
   "outputs": [
    {
     "data": {
      "text/plain": [
       "5.9510111808776855"
      ]
     },
     "execution_count": 23,
     "metadata": {},
     "output_type": "execute_result"
    }
   ],
   "source": [
    "c"
   ]
  }
 ],
 "metadata": {
  "kernelspec": {
   "display_name": "Python 3",
   "language": "python",
   "name": "python3"
  },
  "language_info": {
   "codemirror_mode": {
    "name": "ipython",
    "version": 3
   },
   "file_extension": ".py",
   "mimetype": "text/x-python",
   "name": "python",
   "nbconvert_exporter": "python",
   "pygments_lexer": "ipython3",
   "version": "3.7.0"
  }
 },
 "nbformat": 4,
 "nbformat_minor": 2
}
