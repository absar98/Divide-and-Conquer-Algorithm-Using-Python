{
 "cells": [
  {
   "cell_type": "code",
   "execution_count": 5,
   "metadata": {},
   "outputs": [],
   "source": [
    "def insertion_sort(seq):\n",
    "    for w in range(1,len(seq)):\n",
    "        key = seq[w]\n",
    "        j = w-1\n",
    "        while j>-1 and seq[j]>key:\n",
    "            seq[j+1]=seq[j]\n",
    "            j=j-1\n",
    "        seq[j+1]=key\n",
    "    return seq  "
   ]
  },
  {
   "cell_type": "code",
   "execution_count": 6,
   "metadata": {},
   "outputs": [],
   "source": [
    "def mergeSort(a):\n",
    "    if len(a)>1:\n",
    "        q=len(a)//2\n",
    "        l=a[:q]\n",
    "        r=a[q:]\n",
    "        insertion_sort(l)\n",
    "        insertion_sort(r)\n",
    "        i=0\n",
    "        j=0\n",
    "        k=0\n",
    "        while i<len(l) and j<len(r):\n",
    "            if l[i]<r[j]:\n",
    "                a[k]=l[i]\n",
    "                i=i+1\n",
    "            else:\n",
    "                a[k]=r[j]\n",
    "                j=j+1\n",
    "            k=k+1\n",
    "        while i<len(l):\n",
    "            a[k]=l[i]\n",
    "            i=i+1\n",
    "            k=k+1\n",
    "        while j<len(r):\n",
    "            a[k]=l[i]\n",
    "            j=j+1\n",
    "            k=k+1"
   ]
  },
  {
   "cell_type": "code",
   "execution_count": 7,
   "metadata": {},
   "outputs": [],
   "source": [
    "import time as ti"
   ]
  },
  {
   "cell_type": "code",
   "execution_count": 8,
   "metadata": {},
   "outputs": [],
   "source": [
    "a = ti.time();p = mergeSort(list(range(10000,1,-1)));b = ti.time();c = b-a"
   ]
  },
  {
   "cell_type": "code",
   "execution_count": 9,
   "metadata": {},
   "outputs": [
    {
     "data": {
      "text/plain": [
       "5.216914653778076"
      ]
     },
     "execution_count": 9,
     "metadata": {},
     "output_type": "execute_result"
    }
   ],
   "source": [
    "c"
   ]
  }
 ],
 "metadata": {
  "kernelspec": {
   "display_name": "Python 3",
   "language": "python",
   "name": "python3"
  },
  "language_info": {
   "codemirror_mode": {
    "name": "ipython",
    "version": 3
   },
   "file_extension": ".py",
   "mimetype": "text/x-python",
   "name": "python",
   "nbconvert_exporter": "python",
   "pygments_lexer": "ipython3",
   "version": "3.7.0"
  }
 },
 "nbformat": 4,
 "nbformat_minor": 2
}
